{
 "cells": [
  {
   "cell_type": "code",
   "execution_count": 1,
   "metadata": {},
   "outputs": [
    {
     "name": "stderr",
     "output_type": "stream",
     "text": [
      "Using TensorFlow backend.\n"
     ]
    }
   ],
   "source": [
    "from keras.datasets import mnist\n",
    "import matplotlib.pyplot as plt\n",
    "# Importing the required Keras modules containing model and layers\n",
    "from keras.models import Sequential\n",
    "from keras.layers import Dense, Conv2D, Dropout, Flatten, MaxPooling2D\n",
    "from keras import activations"
   ]
  },
  {
   "cell_type": "code",
   "execution_count": 2,
   "metadata": {},
   "outputs": [],
   "source": [
    "# load dataset\n",
    "(trainX,trainy),(testX,testy) = mnist.load_data()"
   ]
  },
  {
   "cell_type": "code",
   "execution_count": 3,
   "metadata": {},
   "outputs": [
    {
     "name": "stdout",
     "output_type": "stream",
     "text": [
      "train: X=(60000, 28, 28), y=(60000,)\n",
      "test: X=(10000, 28, 28), y=(10000,)\n"
     ]
    }
   ],
   "source": [
    "# summarize loaded dataset\n",
    "print('train: X=%s, y=%s' % (trainX.shape, trainy.shape))\n",
    "print('test: X=%s, y=%s' % (testX.shape, testy.shape))"
   ]
  },
  {
   "cell_type": "code",
   "execution_count": 4,
   "metadata": {},
   "outputs": [
    {
     "data": {
      "image/png": "[encoded data removed]",
      "text/plain": [
       "<Figure size 432x288 with 9 Axes>"
      ]
     },
     "metadata": {
      "needs_background": "light"
     },
     "output_type": "display_data"
    }
   ],
   "source": [
    "# plot first few images\n",
    "for i in range(9):\n",
    "    #define subplot\n",
    "    plt.subplot(330+1+i)\n",
    "    # plot raw pixel data\n",
    "    plt.imshow(trainX[i], cmap=plt.get_cmap('gray'))\n",
    "# show the figure\n",
    "plt.show()"
   ]
  },
  {
   "cell_type": "code",
   "execution_count": 5,
   "metadata": {},
   "outputs": [],
   "source": [
    "# Reshaping the array to 4-dims so that it can work with the Keras API\n",
    "def reshape_and_normalize(trainX,testX):\n",
    "    trainX = trainX.reshape(trainX.shape[0], 28, 28, 1)\n",
    "    testX = testX.reshape(testX.shape[0], 28, 28, 1)\n",
    "    input_shape = (28, 28, 1)\n",
    "    # Making sure that the values are float so that we can get decimal points after division\n",
    "    trainX = trainX.astype('float32')\n",
    "    testX = testX.astype('float32')\n",
    "    # Normalizing the RGB codes by dividing it to the max RGB value.\n",
    "    trainX /= 255\n",
    "    testX /= 255\n",
    "    \n",
    "    return trainX, testX"
   ]
  },
  {
   "cell_type": "code",
   "execution_count": 8,
   "metadata": {},
   "outputs": [],
   "source": [
    "#Building the Convolutional Neural Network\n",
    "# Creating a Sequential Model and adding the layers\n",
    "def create_model():\n",
    "    input_shape = trainX[0].shape\n",
    "    model = Sequential()\n",
    "    model.add(Conv2D(28, kernel_size=(3,3), input_shape=input_shape))\n",
    "    model.add(MaxPooling2D(pool_size=(2, 2)))\n",
    "    model.add(Flatten()) # Flattening the 2D arrays for fully connected layers\n",
    "    model.add(Dense(128, activation=activations.relu))\n",
    "    model.add(Dropout(0.2))\n",
    "    model.add(Dense(10,activation=activations.softmax))\n",
    "    return model"
   ]
  },
  {
   "cell_type": "code",
   "execution_count": 9,
   "metadata": {},
   "outputs": [
    {
     "name": "stdout",
     "output_type": "stream",
     "text": [
      "Epoch 1/10\n",
      "60000/60000 [==============================] - 19s 318us/step - loss: 0.6338 - acc: 0.8104\n",
      "Epoch 2/10\n",
      "60000/60000 [==============================] - 19s 314us/step - loss: 0.2495 - acc: 0.9256\n",
      "Epoch 3/10\n",
      "60000/60000 [==============================] - 19s 315us/step - loss: 0.1796 - acc: 0.9468\n",
      "Epoch 4/10\n",
      "60000/60000 [==============================] - 19s 315us/step - loss: 0.1459 - acc: 0.9565\n",
      "Epoch 5/10\n",
      "60000/60000 [==============================] - 19s 317us/step - loss: 0.1262 - acc: 0.9618\n",
      "Epoch 6/10\n",
      "60000/60000 [==============================] - 19s 316us/step - loss: 0.1123 - acc: 0.9652\n",
      "Epoch 7/10\n",
      "60000/60000 [==============================] - 19s 317us/step - loss: 0.1027 - acc: 0.9683\n",
      "Epoch 8/10\n",
      "60000/60000 [==============================] - 19s 317us/step - loss: 0.0938 - acc: 0.9705\n",
      "Epoch 9/10\n",
      "60000/60000 [==============================] - 19s 317us/step - loss: 0.0864 - acc: 0.9730\n",
      "Epoch 10/10\n",
      "60000/60000 [==============================] - 19s 316us/step - loss: 0.0812 - acc: 0.9747\n"
     ]
    },
    {
     "data": {
      "text/plain": [
       "<keras.callbacks.History at 0x13465eac8>"
      ]
     },
     "execution_count": 9,
     "metadata": {},
     "output_type": "execute_result"
    }
   ],
   "source": [
    "trainX, testX = reshape_and_normalize(trainX,testX)\n",
    "model = create_model()\n",
    "\n",
    "model.compile(optimizer='adam', \n",
    "              loss='sparse_categorical_crossentropy', \n",
    "              metrics=['accuracy'])\n",
    "model.fit(x=trainX,y=trainy, epochs=10)"
   ]
  },
  {
   "cell_type": "code",
   "execution_count": 13,
   "metadata": {},
   "outputs": [
    {
     "name": "stdout",
     "output_type": "stream",
     "text": [
      "10000/10000 [==============================] - 1s 77us/step\n"
     ]
    },
    {
     "data": {
      "text/plain": [
       "[0.07302852024612948, 0.9781]"
      ]
     },
     "execution_count": 13,
     "metadata": {},
     "output_type": "execute_result"
    }
   ],
   "source": [
    "# evaluate\n",
    "def model_evaluate(testX,testy):\n",
    "    return model.evaluate(testX, testy)\n",
    "\n",
    "model_evaluate(testX,testy)"
   ]
  },
  {
   "cell_type": "code",
   "execution_count": 16,
   "metadata": {},
   "outputs": [
    {
     "name": "stdout",
     "output_type": "stream",
     "text": [
      "9\n"
     ]
    },
    {
     "data": {
      "image/png": "[encoded data removed]",
      "text/plain": [
       "<Figure size 432x288 with 1 Axes>"
      ]
     },
     "metadata": {
      "needs_background": "light"
     },
     "output_type": "display_data"
    }
   ],
   "source": [
    "# test\n",
    "def model_pred(image):\n",
    "    pred = model.predict(testX[image_index].reshape(1,28,28,1))\n",
    "    return pred.argmax()\n",
    "\n",
    "\n",
    "image_index = 4444\n",
    "plt.imshow(testX[image_index].reshape(28,28),cmap='Greys')\n",
    "number = model_pred(testX[image_index])\n",
    "print(number)"
   ]
  },
  {
   "cell_type": "code",
   "execution_count": null,
   "metadata": {},
   "outputs": [],
   "source": []
  },
  {
   "cell_type": "code",
   "execution_count": null,
   "metadata": {},
   "outputs": [],
   "source": []
  }
 ],
 "metadata": {
  "kernelspec": {
   "display_name": "Python 3",
   "language": "python",
   "name": "python3"
  },
  "language_info": {
   "codemirror_mode": {
    "name": "ipython",
    "version": 3
   },
   "file_extension": ".py",
   "mimetype": "text/x-python",
   "name": "python",
   "nbconvert_exporter": "python",
   "pygments_lexer": "ipython3",
   "version": "3.6.7"
  }
 },
 "nbformat": 4,
 "nbformat_minor": 2
}
